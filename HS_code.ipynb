{
 "cells": [
  {
   "cell_type": "code",
   "execution_count": 1,
   "metadata": {},
   "outputs": [],
   "source": [
    "import pandas as pd\n",
    "import seaborn as sns\n",
    "import matplotlib.pyplot as plt\n",
    "%matplotlib inline\n",
    "import numpy as np\n",
    "import plotly.express as px\n",
    "\n",
    "from statsmodels.stats.weightstats import ttest_ind\n",
    "\n",
    "from mlxtend.feature_selection import SequentialFeatureSelector as sfs\n",
    "from sklearn.linear_model import LogisticRegression\n",
    "from statsmodels.api import OLS, add_constant\n",
    "from sklearn.tree import DecisionTreeClassifier\n",
    "from sklearn import tree\n",
    "\n",
    "from statsmodels.api import Logit\n",
    "from sklearn.metrics import confusion_matrix\n"
   ]
  },
  {
   "cell_type": "markdown",
   "metadata": {},
   "source": [
    "Import the two csv with the data"
   ]
  },
  {
   "cell_type": "code",
   "execution_count": 2,
   "metadata": {},
   "outputs": [],
   "source": [
    "bretagne = pd.read_csv('Bretagne.csv')"
   ]
  },
  {
   "cell_type": "code",
   "execution_count": 3,
   "metadata": {},
   "outputs": [],
   "source": [
    "idf = pd.read_csv('Paris.csv')"
   ]
  },
  {
   "cell_type": "code",
   "execution_count": 4,
   "metadata": {},
   "outputs": [],
   "source": [
    "# create unique file (concatenate)\n",
    "\n",
    "df = pd.concat([idf, bretagne])"
   ]
  },
  {
   "cell_type": "code",
   "execution_count": 5,
   "metadata": {},
   "outputs": [],
   "source": [
    "# clean the file \n",
    "\n",
    "df.drop(['URL source','ID de la transaction','Montant du paiement','Date du paiement','État du paiement','ID de l’article','Merci pour votre implication, laissez-nous votre adresse mail pour être recontacté'],axis=1, inplace=True)"
   ]
  },
  {
   "cell_type": "code",
   "execution_count": 6,
   "metadata": {},
   "outputs": [],
   "source": [
    "# export the file as csv\n",
    "#since we have done changes on the csv directly we comment this part to avoid overwrting the csv\n",
    "\n",
    "df.to_csv('Full_Question_vaccin_V1.1.csv', index=False)"
   ]
  },
  {
   "cell_type": "code",
   "execution_count": 7,
   "metadata": {},
   "outputs": [],
   "source": [
    "# read the file \n",
    "\n",
    "df1=pd.read_csv('Full_Question_vaccin_V1.1.csv')"
   ]
  },
  {
   "cell_type": "code",
   "execution_count": 8,
   "metadata": {},
   "outputs": [],
   "source": [
    "# creating a dictionary to map departments number and region name\n",
    "region = {56 : 'Bretagne', 29 :'Bretagne',35 : 'Bretagne', 22 : 'Bretagne', 75 : 'IDF', 78 : 'IDF', 92 : 'IDF',91:'IDF', 77 : 'IDF', 94 : 'IDF', 95 : 'IDF', 93 :'IDF'}"
   ]
  },
  {
   "cell_type": "code",
   "execution_count": 10,
   "metadata": {},
   "outputs": [
    {
     "data": {
      "text/plain": [
       "Index(['Dep_id', 'Je suis un(e)', 'Je suis né(e) en', 'Je suis',\n",
       "       'Etudiant en ?', 'Je suis fier(ère) de ma profession',\n",
       "       'Je m’identifie aux valeurs de la profession',\n",
       "       'Ma profession occupe une place importante dans la définition de moi-même',\n",
       "       'Je pense que le sentiment de cohésion est fort dans ma profession',\n",
       "       'Je pense que j’appartiens au groupe de ma profession',\n",
       "       'Être vacciné contre la grippe fait partie du rôle professionnel de ma profession',\n",
       "       'La vaccination du personnel soignant devrait rester un choix personnel',\n",
       "       'Accepter la vaccination est une preuve de responsabilité',\n",
       "       'La liberté du personnel de santé de se vacciner est à réfléchir en fonction de la nécessité de protéger les patients contre la grippe',\n",
       "       'Je me suis fait vacciner par le vaccin antigrippal lors de la dernière campagne vaccinale contre la grippe',\n",
       "       'Par qui ?', 'Je me suis fait vacciner pour ma protection',\n",
       "       'Je me suis fait vacciner pour protéger les personnes fragiles',\n",
       "       'Je me suis fait vacciner pour protéger ma famille et mon entourage',\n",
       "       'Je me suis fait vacciner à cause de mes antécédents et ceux de ma famille',\n",
       "       'Je me suis fait vacciner car le vaccin est recommandé dans le cadre de ma profession',\n",
       "       'Je me ferai vacciner par le vaccin antigrippal lors de la prochaine campagne de vaccination antigrippale',\n",
       "       'Recevez-vous une prise en charge à 100% pour vous faire vacciner ?',\n",
       "       'Cela serait-il plus incitatif pour vous faire vacciner ?',\n",
       "       'Vous feriez-vous quand même vacciner si cela n'était pas pris en charge à 100% ? (Sachant que le prix du vaccin est d'environ 10€)',\n",
       "       'Où ?', 'Quand ?', 'Par qui ?.1',\n",
       "       'Je veux afficher le fait de m’être fait vacciner (porter par exemple un badge ou afficher : \"Contre la grippe, je nous protège , je me vaccine !\")',\n",
       "       'Je vais inciter mes collègues à se faire vacciner',\n",
       "       'Je suis d’accord pour qu’on me contacte en début de période de vaccination pour me rappeler mes engagements',\n",
       "       'Je suis d’accord pour qu’on me contacte après la période vaccinale pour faire le bilan',\n",
       "       'Le contexte COVID-19 a-t-il influencé votre décision de vous faire vacciner contre la grippe lors de la prochaine campagne vaccinale grippe ?',\n",
       "       'La vaccination est efficace dans la prévention de la grippe',\n",
       "       'La vaccination fonctionne dans la prévention de la grippe',\n",
       "       'Si je me fais vacciner, j’ai moins de risque de contracter la grippe',\n",
       "       'Je suis capable de me faire vacciner pour prévenir la grippe',\n",
       "       'J’ai le temps et suis capable de me faire vacciner pour prévenir la grippe',\n",
       "       'Je peux facilement me faire vacciner pour prévenir la grippe',\n",
       "       'Cumul 1er bloc', 'Je pense que la grippe est une menace sévère',\n",
       "       'Je pense que la grippe a de sérieuses conséquences négatives',\n",
       "       'Je pense que la grippe est extrêmement mauvaise',\n",
       "       'Il est probable que je contracte la grippe',\n",
       "       'Je suis à risque pour contracter la grippe',\n",
       "       'Il est tout à fait probable que je contracte la grippe',\n",
       "       'Cumul 2eme bloc', 'Difference des 2 blocs',\n",
       "       'Je trouve scandaleux que des gens meurent de la grippe',\n",
       "       'Je peux être une menace si je rentre dans un Ehpad, une officine, un cabinet médical, un hôpital sans être vacciné',\n",
       "       'En tant que professionnel de santé, je l’assume',\n",
       "       'Les étudiants craignent d’être marginalisés s’ils se font vacciner alors que les professionnels qui les entourent ne le font pas',\n",
       "       'Me faire vacciner c’est leurs montrer la bonne voie et les faire adhérer aux bonnes pratiques',\n",
       "       'Je me pose encore quelques questions concernant le vaccin antigrippal',\n",
       "       'L’accès au vaccin est aisé',\n",
       "       'D’une permanence organisée dans des cabinets d'IDEL',\n",
       "       'D’une permanence organisée à la médecine du travail',\n",
       "       'D’une équipe mobile', 'Autre', 'Autre :',\n",
       "       'Je vais me faire vacciner par le vaccin antigrippale lors de la prochaine campagne de vaccination antigrippale',\n",
       "       'Où ?.1', 'Quand ?.1', 'Par qui ?.2',\n",
       "       'Je veux afficher le fait de m’être fait vacciner (porter par exemple un badge ou afficher)',\n",
       "       'Je vais inciter mes collègues à se faire vacciner.1',\n",
       "       'L’argument qui m’a convaincu',\n",
       "       'Je suis d’accord pour qu’on me contacte en début de période de vaccination pour me rappeler mes engagements.1',\n",
       "       'Je suis d’accord pour qu’on me contacte après la période vaccinale pour faire le bilan.1',\n",
       "       'Merci pour votre implication, laissez-nous votre adresse mail pour être recontacté.1',\n",
       "       'Le contexte COVID-19 a-t-il influencé votre décision de vous faire vacciner contre la grippe lors de la prochaine campagne vaccinale grippe ?.1',\n",
       "       'Des réunions d’informations scientifiques avec un expert',\n",
       "       'Des affiches informatives', 'Des vidéos informatives',\n",
       "       'Avoir des avis d’experts', 'Le remboursement à 100%',\n",
       "       'Créé par (ID utilisateur)', 'ID de l’entrée', 'Date de l’entrée',\n",
       "       'Agent utilisateur', 'IP de l’utilisateur',\n",
       "       'De quelle profession de santé libérale êtes-vous ?',\n",
       "       'Quelle est votre spécialité',\n",
       "       'En tant que professionnel de santé je dois me faire vacciner contre la grippe',\n",
       "       'La vaccination des professionnels de santé devrait rester un choix personnel',\n",
       "       'Je me suis fait vacciner pour protéger ma famille et/ou mon entourage',\n",
       "       'Je me suis fait vacciner à cause de mes antécédents et/ou ceux de ma famille',\n",
       "       'Quand ? (La campagne vaccinale grippe débutera officiellement le 13 octobre 2020)',\n",
       "       'Je veux afficher le fait de m’être fait vacciner (porter par exemple un badge ou afficher : \"Je me vaccine, je vous protège\")',\n",
       "       'Fort de mon engagement vaccinal, je souhaite être rappelé en début de campagne nationale',\n",
       "       'Je pense que la grippe est une maladie grave',\n",
       "       'Je pense que la grippe a des conséquences importantes sur la santé physique',\n",
       "       'Je pense que la grippe a des conséquences importantes sur la qualité de vie : activité professionnelle, vie sociale, vie familiale, ...',\n",
       "       'Je trouve scandaleux que des personnes meurent de la grippe',\n",
       "       'Quand ? (La campagne vaccinale grippe débutera officiellement le 13 octobre 2020).1',\n",
       "       'Je veux afficher le fait de m’être fait vacciner (porter par exemple un badge ou afficher : \"Je me vaccine, je vous protège\").1',\n",
       "       'Fort de mon engagement vaccinal, je souhaite être rappelé en début de campagne nationale.1',\n",
       "       'D’une permanence organisée par des professionnels de santé vaccinateurs (cabinet IDEL, pharmacie...)',\n",
       "       'Autre.1'],\n",
       "      dtype='object')"
      ]
     },
     "execution_count": 10,
     "metadata": {},
     "output_type": "execute_result"
    }
   ],
   "source": [
    "df1.columns"
   ]
  },
  {
   "cell_type": "code",
   "execution_count": 9,
   "metadata": {},
   "outputs": [
    {
     "ename": "AttributeError",
     "evalue": "'DataFrame' object has no attribute 'Dept'",
     "output_type": "error",
     "traceback": [
      "\u001b[0;31m---------------------------------------------------------------------------\u001b[0m",
      "\u001b[0;31mAttributeError\u001b[0m                            Traceback (most recent call last)",
      "\u001b[0;32m<ipython-input-9-be5ea8d296a4>\u001b[0m in \u001b[0;36m<module>\u001b[0;34m\u001b[0m\n\u001b[1;32m      1\u001b[0m \u001b[0;31m# create the region column by mapping the dictionary above\u001b[0m\u001b[0;34m\u001b[0m\u001b[0;34m\u001b[0m\u001b[0;34m\u001b[0m\u001b[0m\n\u001b[1;32m      2\u001b[0m \u001b[0;34m\u001b[0m\u001b[0m\n\u001b[0;32m----> 3\u001b[0;31m \u001b[0mdf1\u001b[0m\u001b[0;34m[\u001b[0m\u001b[0;34m'region'\u001b[0m\u001b[0;34m]\u001b[0m\u001b[0;34m=\u001b[0m \u001b[0mdf1\u001b[0m\u001b[0;34m.\u001b[0m\u001b[0mDept\u001b[0m\u001b[0;34m.\u001b[0m\u001b[0mmap\u001b[0m\u001b[0;34m(\u001b[0m\u001b[0mregion\u001b[0m\u001b[0;34m)\u001b[0m\u001b[0;34m\u001b[0m\u001b[0;34m\u001b[0m\u001b[0m\n\u001b[0m",
      "\u001b[0;32m/opt/anaconda3/lib/python3.8/site-packages/pandas/core/generic.py\u001b[0m in \u001b[0;36m__getattr__\u001b[0;34m(self, name)\u001b[0m\n\u001b[1;32m   5272\u001b[0m             \u001b[0;32mif\u001b[0m \u001b[0mself\u001b[0m\u001b[0;34m.\u001b[0m\u001b[0m_info_axis\u001b[0m\u001b[0;34m.\u001b[0m\u001b[0m_can_hold_identifiers_and_holds_name\u001b[0m\u001b[0;34m(\u001b[0m\u001b[0mname\u001b[0m\u001b[0;34m)\u001b[0m\u001b[0;34m:\u001b[0m\u001b[0;34m\u001b[0m\u001b[0;34m\u001b[0m\u001b[0m\n\u001b[1;32m   5273\u001b[0m                 \u001b[0;32mreturn\u001b[0m \u001b[0mself\u001b[0m\u001b[0;34m[\u001b[0m\u001b[0mname\u001b[0m\u001b[0;34m]\u001b[0m\u001b[0;34m\u001b[0m\u001b[0;34m\u001b[0m\u001b[0m\n\u001b[0;32m-> 5274\u001b[0;31m             \u001b[0;32mreturn\u001b[0m \u001b[0mobject\u001b[0m\u001b[0;34m.\u001b[0m\u001b[0m__getattribute__\u001b[0m\u001b[0;34m(\u001b[0m\u001b[0mself\u001b[0m\u001b[0;34m,\u001b[0m \u001b[0mname\u001b[0m\u001b[0;34m)\u001b[0m\u001b[0;34m\u001b[0m\u001b[0;34m\u001b[0m\u001b[0m\n\u001b[0m\u001b[1;32m   5275\u001b[0m \u001b[0;34m\u001b[0m\u001b[0m\n\u001b[1;32m   5276\u001b[0m     \u001b[0;32mdef\u001b[0m \u001b[0m__setattr__\u001b[0m\u001b[0;34m(\u001b[0m\u001b[0mself\u001b[0m\u001b[0;34m,\u001b[0m \u001b[0mname\u001b[0m\u001b[0;34m:\u001b[0m \u001b[0mstr\u001b[0m\u001b[0;34m,\u001b[0m \u001b[0mvalue\u001b[0m\u001b[0;34m)\u001b[0m \u001b[0;34m->\u001b[0m \u001b[0;32mNone\u001b[0m\u001b[0;34m:\u001b[0m\u001b[0;34m\u001b[0m\u001b[0;34m\u001b[0m\u001b[0m\n",
      "\u001b[0;31mAttributeError\u001b[0m: 'DataFrame' object has no attribute 'Dept'"
     ]
    }
   ],
   "source": [
    "# create the region column by mapping the dictionary above\n",
    "\n",
    "df1['region']= df1.Dept.map(region)"
   ]
  },
  {
   "cell_type": "code",
   "execution_count": null,
   "metadata": {},
   "outputs": [],
   "source": [
    "# create the age column\n",
    "\n",
    "df['Age'] = 2020-df['Birth']"
   ]
  },
  {
   "cell_type": "code",
   "execution_count": null,
   "metadata": {},
   "outputs": [],
   "source": [
    "# define the category age\n",
    "\n",
    "def category_age(age):\n",
    "    if age <= 30:\n",
    "        return 0\n",
    "    elif (age>30) & (age<=45):\n",
    "        return 1\n",
    "    elif (age>45) & (age<=60):\n",
    "        return 2\n",
    "    else : return 3"
   ]
  },
  {
   "cell_type": "code",
   "execution_count": null,
   "metadata": {},
   "outputs": [],
   "source": [
    "# create the cat_age column by mapping the function above\n",
    "\n",
    "df['cat_age'] = df.Age.map(category_age)\n"
   ]
  },
  {
   "cell_type": "code",
   "execution_count": null,
   "metadata": {},
   "outputs": [],
   "source": [
    "# distribution by sex\n",
    "\n",
    "df_test = df1.groupby('Sexe').size()\n",
    "df_test=pd.DataFrame({\"count\":df_test})\n",
    "\n",
    "fig= px.bar(df_test.reset_index(), x='Sexe',y='count',color='Sexe',color_discrete_sequence=['pink','blue'],text='count')\n",
    "fig.update_traces(textposition='inside')\n",
    "fig.show()"
   ]
  },
  {
   "cell_type": "code",
   "execution_count": null,
   "metadata": {},
   "outputs": [],
   "source": [
    "# distribution by sex and region\n",
    "\n",
    "df_test1 = df1.groupby(['region','Sexe']).count().reset_index()\n",
    "df_test1.rename(columns={'Dept':'Count'},inplace=True)\n",
    "\n",
    "fig = px.bar(df_test1,x='region',y='Count',color='Sexe',color_discrete_sequence=['pink','blue'])\n",
    "fig.show()"
   ]
  },
  {
   "cell_type": "code",
   "execution_count": null,
   "metadata": {},
   "outputs": [],
   "source": [
    "## Number of Y/N by Catergory\n",
    "\n",
    "df_test5 = df1.groupby(['Profession','Did_last_vacc_campaign']).size().sort_values(ascending=False).reset_index()\n",
    "df_test5.rename(columns={0:'Count'},inplace=True)\n",
    "fig = px.bar(df_test5,y='Profession',x='Count',color='Did_last_vacc_campaign',color_discrete_sequence=['green','red'],text='Count',title='Number Y/N by Category')\n",
    "fig.update_traces(textposition='inside')\n",
    "fig.show()"
   ]
  },
  {
   "cell_type": "code",
   "execution_count": null,
   "metadata": {},
   "outputs": [],
   "source": [
    "# age ditribution\n",
    "\n",
    "df1['Age'].hist()"
   ]
  },
  {
   "cell_type": "code",
   "execution_count": null,
   "metadata": {},
   "outputs": [],
   "source": [
    "df_test7 = df1.groupby(['cat_age','Did_last_vacc_campaign']).size().sort_values(ascending=False).reset_index()\n",
    "df_test7.rename(columns={0:'Count'},inplace=True)\n",
    "fig = px.bar(df_test7,x='cat_age',y='Count',color='Did_last_vacc_campaign',color_discrete_sequence=['green','red'],\n",
    "             text='Count',title='Number Y/N by cat_age')\n",
    "fig.update_traces(textposition='inside')\n",
    "fig.show()"
   ]
  },
  {
   "cell_type": "code",
   "execution_count": null,
   "metadata": {},
   "outputs": [],
   "source": [
    "# Statistic about 'Proud odf Profession'\n",
    "\n",
    "df['Proud_profession_score']=df['Proud_profession'].isin([\"D\\'accord\",'Tout à fait d\\'accord']).map({True:\"Oui\",False:'Non'})\n",
    "pd.crosstab(df['Did_last_vacc_campaign'],df['Proud_profession_score'],normalize='columns', margins=True)\n",
    "\n",
    "prouds = df.query('Proud_profession_score==\"Oui\"')['Did_last_vacc_campaign'].map({'Oui':1,'Non':0})\n",
    "nonprouds = df.query('Proud_profession_score==\"Non\"')['Did_last_vacc_campaign'].map({'Oui':1,'Non':0})\n",
    "\n",
    "ttest_ind(prouds,nonprouds)"
   ]
  },
  {
   "cell_type": "code",
   "execution_count": null,
   "metadata": {},
   "outputs": [],
   "source": [
    "# Statistic about 'Profession Values Identification'\n",
    "\n",
    "df['Profession_values_identification_score']=df['Profession_values_identification'].isin([\"D\\'accord\",'Tout à fait d\\'accord']).map({True:\"Oui\",False:'Non'})\n",
    "\n",
    "pd.crosstab(df['Did_last_vacc_campaign'],df['Profession_values_identification_score'],normalize='columns', margins=True)\n",
    "\n",
    "identify = df.query('Profession_values_identification_score==\"Oui\"')['Did_last_vacc_campaign'].map({'Oui':1,'Non':0})\n",
    "nonidentify = df.query('Profession_values_identification_score==\"Non\"')['Did_last_vacc_campaign'].map({'Oui':1,'Non':0})\n",
    "\n",
    "ttest_ind(identify,nonidentify)"
   ]
  },
  {
   "cell_type": "code",
   "execution_count": null,
   "metadata": {},
   "outputs": [],
   "source": [
    "# Statistic about 'Cohesion Feeling'\n",
    "\n",
    "df['Profession_high_cohesion_feeling_score']=df['Profession_high_cohesion_feeling'].isin([\"D\\'accord\",'Tout à fait d\\'accord']).map({True:\"Oui\",False:'Non'})\n",
    "\n",
    "pd.crosstab(df['Did_last_vacc_campaign'],df['Profession_high_cohesion_feeling'],normalize='columns', margins=True)\n",
    "\n",
    "cohesion = df.query('Profession_high_cohesion_feeling_score==\"Oui\"')['Did_last_vacc_campaign'].map({'Oui':1,'Non':0})\n",
    "noncohesion = df.query('Profession_high_cohesion_feeling_score==\"Non\"')['Did_last_vacc_campaign'].map({'Oui':1,'Non':0})\n",
    "\n",
    "ttest_ind(cohesion,noncohesion)"
   ]
  },
  {
   "cell_type": "code",
   "execution_count": null,
   "metadata": {},
   "outputs": [],
   "source": [
    "# Going deeper in people saying No at last vaccination campaign\n",
    "# Create DataFrame about this people\n",
    "\n",
    "df_no = df.loc[df['Did_last_vacc_campaign']=='Non'].copy()"
   ]
  },
  {
   "cell_type": "code",
   "execution_count": null,
   "metadata": {},
   "outputs": [],
   "source": [
    "# test all professions who didnt do the last vaccin, if they will do the next one\n",
    "\n",
    "from scipy.stats import f_oneway\n",
    "\n",
    "ddf={}\n",
    "for i,j in df.groupby('Profession'):\n",
    "    ddf[i]=j.query('Did_last_vacc_campaign==\"Non\"').Will_vacc_next_campaign_2.map({'Oui':1,'Non':0})\n",
    "ddf.keys()"
   ]
  },
  {
   "cell_type": "code",
   "execution_count": null,
   "metadata": {},
   "outputs": [],
   "source": [
    "# Anova test\n",
    "\n",
    "f_oneway(*ddf.values())"
   ]
  },
  {
   "cell_type": "code",
   "execution_count": null,
   "metadata": {},
   "outputs": [],
   "source": [
    "# Proportion of people will do the next vaccin campaign by profession \n",
    "\n",
    "dict(map(lambda x:(x[0],x[1].mean()), ddf.items()))"
   ]
  },
  {
   "cell_type": "code",
   "execution_count": null,
   "metadata": {},
   "outputs": [],
   "source": [
    "# Sample size of the previous calculation\n",
    "\n",
    "dict(map(lambda x:(x[0],x[1].size), ddf.items()))"
   ]
  },
  {
   "cell_type": "code",
   "execution_count": null,
   "metadata": {},
   "outputs": [],
   "source": [
    "# Verify or Unverify the Witte Theory : \n",
    "\n",
    "## People said they will not do the next vaccination campaign, score should be < 0 \n",
    "## People said they will do the next vaccination campaign, score should be > 0 \n",
    "\n",
    "negative=df.loc[df['Difference des 2 blocs']<1, 'Will_vacc_next_campaign_2'].map({'Non':0,'Oui':1}).dropna()\n",
    "positive=df.loc[df['Difference des 2 blocs']>=1, 'Will_vacc_next_campaign_2'].map({'Non':0,'Oui':1}).dropna()\n",
    "\n",
    "ttest_ind(negative,positive)"
   ]
  },
  {
   "cell_type": "code",
   "execution_count": null,
   "metadata": {},
   "outputs": [],
   "source": [
    "df['score']=df['Difference des 2 blocs'].map(lambda x: 'above 1' if x>=1 else 'below 1' if x<1 else np.nan)\n",
    "df['answer']=df['Will_vacc_next_campaign_2'].map({'Non':0,'Oui':1})"
   ]
  },
  {
   "cell_type": "code",
   "execution_count": null,
   "metadata": {},
   "outputs": [],
   "source": [
    "df.groupby('score')['answer'].mean().round(2)"
   ]
  },
  {
   "cell_type": "markdown",
   "metadata": {},
   "source": [
    "Based on descriptive statistic If the score is above 1, probability he will get vaccinated are 51\n",
    "The higher score the higher the chances.\n",
    "Since for the other 50% the theory is not confirmed let’s go deeper"
   ]
  },
  {
   "cell_type": "code",
   "execution_count": null,
   "metadata": {},
   "outputs": [],
   "source": [
    "# BUilding Decision Tree Model on Witte Theory\n",
    "\n",
    "df_ml=df_no[['Will_vacc_next_campaign_2','Difference des 2 blocs']].copy()\n",
    "df_ml.reset_index(inplace=True)\n",
    "df_ml.drop('index',axis=1,inplace=True)\n",
    "df_ml['Will_vacc_next_campaign_2']=df_ml['Will_vacc_next_campaign_2'].map({'Non':0,'Oui':1})"
   ]
  },
  {
   "cell_type": "code",
   "execution_count": null,
   "metadata": {},
   "outputs": [],
   "source": [
    "X_train,X_test,y_train,y_test = train_test_split(\n",
    "df_ml.drop('Will_vacc_next_campaign_2',axis=1),\n",
    "df_ml['Will_vacc_next_campaign_2'],\n",
    "test_size=1/3,\n",
    "random_state=42,\n",
    "stratify = df_ml['Will_vacc_next_campaign_2']\n",
    ")"
   ]
  },
  {
   "cell_type": "code",
   "execution_count": null,
   "metadata": {},
   "outputs": [],
   "source": [
    "# 1st try on Decision Tree\n",
    "\n",
    "dt=DecisionTreeClassifier(class_weight='balanced')\n",
    "dt.fit(X_train, y_train)"
   ]
  },
  {
   "cell_type": "code",
   "execution_count": null,
   "metadata": {},
   "outputs": [],
   "source": [
    "# Final try on decision\n",
    "\n",
    "clf = DecisionTreeClassifier(max_leaf_nodes=5, random_state=0, min_samples_split=10)\n",
    "clf.fit(X_train, y_train)"
   ]
  },
  {
   "cell_type": "code",
   "execution_count": null,
   "metadata": {},
   "outputs": [],
   "source": [
    "#plot the decision tree 'clf'\n",
    "\n",
    "plt.figure(figsize=(50,25))\n",
    "tree.plot_tree(clf)\n",
    "plt.show()"
   ]
  },
  {
   "cell_type": "code",
   "execution_count": null,
   "metadata": {},
   "outputs": [],
   "source": [
    "# add color to the chart\n",
    "\n",
    "fn=['Difference des 2 blocs']\n",
    "cn=['Non', 'Oui']\n",
    "fig, axes = plt.subplots(nrows = 1,ncols = 1,figsize = (4,4), dpi=300)\n",
    "tree.plot_tree(clf,\n",
    "               feature_names = fn, \n",
    "               class_names=cn,\n",
    "               filled = True);"
   ]
  },
  {
   "cell_type": "code",
   "execution_count": null,
   "metadata": {},
   "outputs": [],
   "source": [
    "# Going deeper on the score analysis for the Witte Theory\n",
    "\n",
    "# function to define category\n",
    "\n",
    "def score_cat(score):\n",
    "    if score<=-11.5:\n",
    "        return 'below -11.5'\n",
    "    elif score<=-2.5:\n",
    "        return '-11.5 to -2.5'\n",
    "    elif score <=8.5:\n",
    "        return '-2.5 to 8.5'\n",
    "    elif score <=14.5:\n",
    "        return '8.5 to 14.5'\n",
    "    else:\n",
    "        return 'above 14.5'"
   ]
  },
  {
   "cell_type": "code",
   "execution_count": null,
   "metadata": {},
   "outputs": [],
   "source": [
    "# Map the function to the score to have a new function\n",
    "\n",
    "df['difference des 2 blocs_score']=df['Difference des 2 blocs'].map(score_cat)\n",
    "df['will_do']=df['Will_vacc_next_campaign_2'].map({'Non':0, 'Oui':1})"
   ]
  },
  {
   "cell_type": "code",
   "execution_count": null,
   "metadata": {},
   "outputs": [],
   "source": [
    "df.rename(columns={'difference des 2 blocs_score':'score'},inplace=True)"
   ]
  },
  {
   "cell_type": "code",
   "execution_count": null,
   "metadata": {},
   "outputs": [],
   "source": [
    "# Building a heatmap of % per category score\n",
    "\n",
    "sns.heatmap(df[['score', 'will_do']].groupby('score').apply(lambda x: x.will_do.mean()).loc[['above 14.5','8.5 to 14.5','-2.5 to 8.5','-11.5 to -2.5','below -11.5' ]].to_frame(),annot=True)\n",
    "plt.xlabel('% Yes Respondents')"
   ]
  },
  {
   "cell_type": "code",
   "execution_count": null,
   "metadata": {},
   "outputs": [],
   "source": [
    "# Covid impact on decision to do the vaccin\n",
    "\n",
    "df_no.groupby(['Will_vacc_next_campaign_2','covid_context_influence_score']).size().reset_index()"
   ]
  },
  {
   "cell_type": "code",
   "execution_count": null,
   "metadata": {},
   "outputs": [],
   "source": [
    "# Create the modeling part"
   ]
  },
  {
   "cell_type": "code",
   "execution_count": null,
   "metadata": {},
   "outputs": [],
   "source": [
    "# Create X & Y \n",
    "\n",
    "X = df_no.drop(['Will_vacc_next_campaign_2'],axis=1)\n",
    "y = df_no['Will_vacc_next_campaign_2'].map({'Oui':1,'Non':0})"
   ]
  },
  {
   "cell_type": "code",
   "execution_count": null,
   "metadata": {},
   "outputs": [],
   "source": [
    "# Create categories from profession\n",
    "\n",
    "X['profession']=X['Profession'].astype('category').cat.codes"
   ]
  },
  {
   "cell_type": "code",
   "execution_count": null,
   "metadata": {},
   "outputs": [],
   "source": [
    "# Cleaning missing data on X (Need some review - some columns still can be usefull)\n",
    "\n",
    "X = X.loc[:, X.isnull().mean() < .55]"
   ]
  },
  {
   "cell_type": "code",
   "execution_count": null,
   "metadata": {},
   "outputs": [],
   "source": [
    "# Cleaning unuseful columns and too correlated one\n",
    "\n",
    "X['easy_acc']=X['easy_acc'].map({'Oui':1,'Non':0})\n",
    "X['region'] =X.region.map({'IDF':1,'Bretagne':2})\n",
    "X.drop(['Proud_profession_score','Profession_values_identification_score','Profession','Did_last_vacc_campaign',\n",
    "        'Les étudiants craignent d’être marginalisés s’ils se font vacciner alors que les professionnels qui les entourent ne le font pas',\n",
    "       'easy_acc','Profession','Birth','Dept',],axis=1,inplace=True)\n",
    "X.Sexe = X.Sexe.map({'Homme':0,'Femme':1})"
   ]
  },
  {
   "cell_type": "code",
   "execution_count": null,
   "metadata": {},
   "outputs": [],
   "source": [
    "# Dictionnary to map text score into ML useful data\n",
    "\n",
    "score = {'Pas du tout d\\'accord':-3,\n",
    "         'Pas d\\'accord':-2,\n",
    "         'Plutôt pas d\\'accord':-1,\n",
    "         'Indifférent':0,\n",
    "         'Plutôt d\\'accord':1,\n",
    "         'D\\'accord':2,\n",
    "         'Tout à fait d\\'accord':3}"
   ]
  },
  {
   "cell_type": "code",
   "execution_count": null,
   "metadata": {},
   "outputs": [],
   "source": [
    "# Map the dictionnary\n",
    "\n",
    "X[['Proud_profession','Profession_values_identification','Profession_define_myself','Profession_high_cohesion_feeling','Professional_group_being_part','As_ProfessionalH_MustBe_Vacc','Vac_forProfessionalH_Choice','Accept_Vac_Proof_Resp','Choice_Vacc_limited_by_patient_protect']]=X[['Proud_profession','Profession_values_identification','Profession_define_myself','Profession_high_cohesion_feeling','Professional_group_being_part','As_ProfessionalH_MustBe_Vacc','Vac_forProfessionalH_Choice','Accept_Vac_Proof_Resp','Choice_Vacc_limited_by_patient_protect']].apply(lambda x: x.map(score), axis=1)"
   ]
  },
  {
   "cell_type": "code",
   "execution_count": null,
   "metadata": {},
   "outputs": [],
   "source": [
    "# Fill the last missing value\n",
    "\n",
    "X.fillna(value=0,inplace=True)"
   ]
  },
  {
   "cell_type": "code",
   "execution_count": null,
   "metadata": {},
   "outputs": [],
   "source": [
    "# Visualise correlation\n",
    "\n",
    "sns.heatmap(X.corr())"
   ]
  },
  {
   "cell_type": "code",
   "execution_count": null,
   "metadata": {},
   "outputs": [],
   "source": [
    "# Select the best features with SFS\n",
    "\n",
    "estimator=LogisticRegression(max_iter=1e8)\n",
    "sfs1=sfs(\n",
    "    estimator,\n",
    "    k_features=10,\n",
    "    forward=True,\n",
    "    floating=False,\n",
    "    scoring='accuracy'\n",
    ")"
   ]
  },
  {
   "cell_type": "code",
   "execution_count": null,
   "metadata": {},
   "outputs": [],
   "source": [
    "sfs1.fit(X,y)"
   ]
  },
  {
   "cell_type": "code",
   "execution_count": null,
   "metadata": {},
   "outputs": [],
   "source": [
    "sfs1.get_metric_dict()"
   ]
  },
  {
   "cell_type": "code",
   "execution_count": null,
   "metadata": {},
   "outputs": [],
   "source": [
    "# Redefine X with the result of SFS\n",
    "\n",
    "X=sfs1.transform(X)"
   ]
  },
  {
   "cell_type": "code",
   "execution_count": null,
   "metadata": {},
   "outputs": [],
   "source": [
    "# Building a Logistic Regression Model\n",
    "\n",
    "Logit(y.reset_index(drop=True), X).fit(maxiter=1e8).summary()"
   ]
  },
  {
   "cell_type": "code",
   "execution_count": null,
   "metadata": {},
   "outputs": [],
   "source": [
    "# Base on result we drop column with P value > 0.05\n",
    "\n",
    "X.drop('Difference des 2 blocs',axis=1,inplace=True)\n",
    "\n",
    "Logit(y.reset_index(drop=True), X).fit(maxiter=1e8).summary()"
   ]
  },
  {
   "cell_type": "code",
   "execution_count": null,
   "metadata": {},
   "outputs": [],
   "source": [
    "X.drop('Cumul 1er bloc',axis=1,inplace=True)\n",
    "\n",
    "Logit(y.reset_index(drop=True), X).fit(maxiter=1e8).summary()"
   ]
  },
  {
   "cell_type": "code",
   "execution_count": null,
   "metadata": {},
   "outputs": [],
   "source": [
    "# Print the result of the model\n",
    "\n",
    "model=Logit(y.reset_index(drop=True), X).fit()\n",
    "model.summary()"
   ]
  },
  {
   "cell_type": "code",
   "execution_count": null,
   "metadata": {},
   "outputs": [],
   "source": [
    "# Cohesion matrix\n",
    "\n",
    "proba_pred=model.predict()\n",
    "proba_pred=np.where(proba_pred>0.5,1, 0)\n",
    "\n",
    "confusion_matrix(y, proba_pred)"
   ]
  }
 ],
 "metadata": {
  "kernelspec": {
   "display_name": "Python 3",
   "language": "python",
   "name": "python3"
  },
  "language_info": {
   "codemirror_mode": {
    "name": "ipython",
    "version": 3
   },
   "file_extension": ".py",
   "mimetype": "text/x-python",
   "name": "python",
   "nbconvert_exporter": "python",
   "pygments_lexer": "ipython3",
   "version": "3.8.3"
  }
 },
 "nbformat": 4,
 "nbformat_minor": 4
}
